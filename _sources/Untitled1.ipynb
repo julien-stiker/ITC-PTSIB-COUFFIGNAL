{
 "cells": [
  {
   "cell_type": "code",
   "execution_count": 3,
   "id": "749521d9",
   "metadata": {},
   "outputs": [],
   "source": [
    "import numpy as np\n",
    "import matplotlib.pyplot as plt\n",
    "import scipy.linalg as lin\n",
    "\n",
    "%matplotlib inline\n",
    "%config InlineBackend.figure_format = 'retina'\n",
    "\n",
    "np.set_printoptions(precision=3, linewidth=150, suppress=True)\n"
   ]
  },
  {
   "cell_type": "code",
   "execution_count": 4,
   "id": "66113e37",
   "metadata": {},
   "outputs": [],
   "source": [
    "tab = np.array([[5, 4, 2, 5, 4, 2, 3, 1, 0, 2, 1, 4, 3, 1, 2],\n",
    "       [5, 3, 1, 3, 4, 0, 3, 2, 1, 0, 2, 2, 2, 0, 1],\n",
    "       [4, 3, 2, 5, 3, 1, 4, 1, 0, 1, 1, 4, 3, 0, 1],\n",
    "       [0, 2, 3, 3, 2, 3, 2, 4, 3, 3, 1, 2, 3, 3, 2],\n",
    "       [1, 2, 2, 4, 3, 1, 4, 3, 1, 1, 0, 1, 2, 2, 3],\n",
    "       [1, 1, 2, 3, 2, 1, 4, 3, 0, 0, 1, 2, 3, 2, 2]])\n"
   ]
  },
  {
   "cell_type": "code",
   "execution_count": 5,
   "id": "94f996b5",
   "metadata": {},
   "outputs": [
    {
     "name": "stdout",
     "output_type": "stream",
     "text": [
      "Valeurs propres de la matrice de covariance : [7.011 2.383 0.81  0.089 0.382 0.249] \n",
      "\n",
      "Vecteurs propres de la matrice de covariance :\n",
      " [[ 0.545  0.152 -0.487  0.561 -0.242  0.262]\n",
      " [ 0.487  0.219  0.66   0.128 -0.268 -0.436]\n",
      " [ 0.587 -0.021 -0.346 -0.621  0.3   -0.243]\n",
      " [-0.171 -0.456 -0.356  0.167 -0.333 -0.705]\n",
      " [ 0.212 -0.626  0.186 -0.295 -0.508  0.429]\n",
      " [ 0.214 -0.574  0.216  0.41   0.641  0.005]]\n"
     ]
    },
    {
     "name": "stderr",
     "output_type": "stream",
     "text": [
      "/var/folders/2c/_2pxcgcx3dg1z0y7lxk7nf080000gn/T/ipykernel_44697/78524939.py:4: ComplexWarning: Casting complex values to real discards the imaginary part\n",
      "  val = val.astype('float')  # on convertit puisqu'on sait que ce sont des réels\n"
     ]
    }
   ],
   "source": [
    "cov = np.cov(tab)\n",
    "\n",
    "val, vec = lin.eig(cov)\n",
    "val = val.astype('float')  # on convertit puisqu'on sait que ce sont des réels\n",
    "print(\"Valeurs propres de la matrice de covariance :\", val,\"\\n\")\n",
    "print(\"Vecteurs propres de la matrice de covariance :\\n\", vec)"
   ]
  },
  {
   "cell_type": "code",
   "execution_count": 17,
   "id": "0d2b327d",
   "metadata": {},
   "outputs": [
    {
     "data": {
      "text/plain": [
       "array([ 0.152,  0.219, -0.021, -0.456, -0.626, -0.574])"
      ]
     },
     "execution_count": 17,
     "metadata": {},
     "output_type": "execute_result"
    }
   ],
   "source": [
    "(1/2.383)*cov @ vec[:,1]\n",
    "\n"
   ]
  },
  {
   "cell_type": "code",
   "execution_count": 8,
   "id": "ee641eeb",
   "metadata": {},
   "outputs": [
    {
     "name": "stdout",
     "output_type": "stream",
     "text": [
      "[ 0.545  0.487  0.587 -0.171  0.212  0.214]\n"
     ]
    }
   ],
   "source": [
    "print(vec[:,0])"
   ]
  },
  {
   "cell_type": "code",
   "execution_count": 10,
   "id": "7e3bcbd2",
   "metadata": {},
   "outputs": [
    {
     "data": {
      "text/plain": [
       "7.939531117269928"
      ]
     },
     "execution_count": 10,
     "metadata": {},
     "output_type": "execute_result"
    }
   ],
   "source": [
    "vec[:,0]@tab[:,0]"
   ]
  },
  {
   "cell_type": "code",
   "execution_count": 12,
   "id": "cc4c06b7",
   "metadata": {},
   "outputs": [
    {
     "name": "stdout",
     "output_type": "stream",
     "text": [
      "7.939531117269928\n",
      "5.702531201902928\n",
      "3.092655449215036\n",
      "8.10412212348372\n",
      "6.616103636613148\n",
      "1.5917174575357684\n",
      "6.810766422491071\n",
      "2.7026273370387073\n",
      "0.18709259889881916\n",
      "1.3778104878225261\n",
      "2.150597080164158\n",
      "5.804138263588241\n",
      "4.9267077475970105\n",
      "0.885144563577256\n"
     ]
    }
   ],
   "source": [
    "for i in range(14):\n",
    "    print(vec[:,0]@tab[:,i])\n",
    "    "
   ]
  },
  {
   "cell_type": "code",
   "execution_count": 13,
   "id": "17cdd700",
   "metadata": {},
   "outputs": [
    {
     "name": "stdout",
     "output_type": "stream",
     "text": [
      "0.5743808546660782\n",
      "-1.5329700337797183\n",
      "-3.284625984833884\n",
      "-4.277065165298903\n",
      "-2.51293451985396\n",
      "-2.283511975059551\n",
      "-4.678301140237845\n",
      "-4.85199381135274\n",
      "-1.7746847157246193\n",
      "-1.7100119255721655\n",
      "-0.4599704384445653\n",
      "-1.7211551703803396\n",
      "-3.5076595585775525\n",
      "-3.61394293687751\n"
     ]
    }
   ],
   "source": [
    "for i in range(14):\n",
    "    print(vec[:,1]@tab[:,i])"
   ]
  },
  {
   "cell_type": "code",
   "execution_count": null,
   "id": "9a2ffcd2",
   "metadata": {},
   "outputs": [],
   "source": []
  }
 ],
 "metadata": {
  "kernelspec": {
   "display_name": "Python 3 (ipykernel)",
   "language": "python",
   "name": "python3"
  },
  "language_info": {
   "codemirror_mode": {
    "name": "ipython",
    "version": 3
   },
   "file_extension": ".py",
   "mimetype": "text/x-python",
   "name": "python",
   "nbconvert_exporter": "python",
   "pygments_lexer": "ipython3",
   "version": "3.8.2"
  }
 },
 "nbformat": 4,
 "nbformat_minor": 5
}
