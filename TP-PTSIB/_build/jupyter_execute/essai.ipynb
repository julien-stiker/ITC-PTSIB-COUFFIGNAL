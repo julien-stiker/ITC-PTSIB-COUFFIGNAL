{
 "cells": [
  {
   "cell_type": "markdown",
   "id": "597ba3ec",
   "metadata": {},
   "source": []
  },
  {
   "cell_type": "markdown",
   "id": "75e13d97",
   "metadata": {},
   "source": [
    "# TP2 : Des modules, des tests et un peu de complexité\n",
    "\n",
    "\n",
    "```{note}\n",
    ":class: dropdown\n",
    "The note body will be hidden!\n",
    "```\n",
    "\n",
    "## Les modules\n",
    "\n",
    "```{adomition} Solution\n",
    ":class: dropdown, tip\n",
    "The note body will be hidden!\n",
    "```\n",
    "\n",
    "```{math}\n",
    ":label: my-math-ref\n",
    "w_{t+1} = (1 + r_{t+1}) s(w_t) + y_{t+1}\n",
    "```\n",
    "\n",
    "$$\n",
    "  \\int_0^\\infty \\frac{x^3}{e^x-1}\\,dx = \\frac{\\pi^4}{15}\n",
    "$$\n",
    "\n"
   ]
  },
  {
   "cell_type": "markdown",
   "id": "a526f919",
   "metadata": {},
   "source": [
    "```{code-cell} ipython3\n",
    ":tags: [remove-stderr]\n",
    "\n",
    "import sys\n",
    "print(\"this is some stdout\")\n",
    "print(\"this is some stderr\", file=sys.stderr)\n",
    "```"
   ]
  },
  {
   "cell_type": "code",
   "execution_count": 1,
   "id": "9e2e3483",
   "metadata": {},
   "outputs": [],
   "source": [
    "def essai(a, b ):\n",
    "    return 2"
   ]
  },
  {
   "cell_type": "code",
   "execution_count": 2,
   "id": "9080d3cf-e192-495e-8160-bc2edd028d0f",
   "metadata": {},
   "outputs": [
    {
     "name": "stdout",
     "output_type": "stream",
     "text": [
      " ______________ \n",
      "< Welcome Bob! >\n",
      " -------------- \n",
      "  \\\n",
      "   \\   \\_\\_    _/_/\n",
      "    \\      \\__/\n",
      "           (oo)\\_______\n",
      "           (__)\\       )\\/\\\n",
      "               ||----w |\n",
      "               ||     ||\n"
     ]
    }
   ],
   "source": [
    "from cowpy import cow\n",
    "cheese = cow.Moose()\n",
    "msg = cheese.milk(\"Welcome Bob!\")\n",
    "print(msg)"
   ]
  },
  {
   "cell_type": "markdown",
   "id": "591d0e7f",
   "metadata": {},
   "source": []
  },
  {
   "cell_type": "markdown",
   "id": "ea1f3ebc",
   "metadata": {},
   "source": []
  },
  {
   "cell_type": "code",
   "execution_count": null,
   "id": "ba255d3f",
   "metadata": {},
   "outputs": [],
   "source": []
  }
 ],
 "metadata": {
  "kernelspec": {
   "display_name": "Python 3 (ipykernel)",
   "language": "python",
   "name": "python3"
  },
  "language_info": {
   "codemirror_mode": {
    "name": "ipython",
    "version": 3
   },
   "file_extension": ".py",
   "mimetype": "text/x-python",
   "name": "python",
   "nbconvert_exporter": "python",
   "pygments_lexer": "ipython3",
   "version": "3.8.2"
  }
 },
 "nbformat": 4,
 "nbformat_minor": 5
}