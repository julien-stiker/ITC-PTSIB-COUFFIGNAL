{
 "cells": [
  {
   "cell_type": "markdown",
   "id": "e78642c6",
   "metadata": {},
   "source": [
    "# Coucou\n"
   ]
  },
  {
   "cell_type": "code",
   "execution_count": 1,
   "id": "8455d023",
   "metadata": {},
   "outputs": [
    {
     "name": "stdout",
     "output_type": "stream",
     "text": [
      "2\n"
     ]
    }
   ],
   "source": [
    "print(2)"
   ]
  },
  {
   "cell_type": "markdown",
   "id": "92d5d809-e683-406d-acf8-4cad74f4080f",
   "metadata": {},
   "source": [
    "```{note}\n",
    "Here is a note\n",
    "```\n",
    "kjhlkjh"
   ]
  },
  {
   "cell_type": "code",
   "execution_count": 2,
   "id": "9080d3cf-e192-495e-8160-bc2edd028d0f",
   "metadata": {},
   "outputs": [
    {
     "name": "stdout",
     "output_type": "stream",
     "text": [
      " ______________ \n",
      "< Welcome Bob! >\n",
      " -------------- \n",
      "  \\\n",
      "   \\   \\_\\_    _/_/\n",
      "    \\      \\__/\n",
      "           (oo)\\_______\n",
      "           (__)\\       )\\/\\\n",
      "               ||----w |\n",
      "               ||     ||\n"
     ]
    }
   ],
   "source": [
    "from cowpy import cow\n",
    "cheese = cow.Moose()\n",
    "msg = cheese.milk(\"Welcome Bob!\")\n",
    "print(msg)"
   ]
  },
  {
   "cell_type": "code",
   "execution_count": null,
   "id": "7bbaeb85-dd48-450d-b652-26f2898c26b5",
   "metadata": {},
   "outputs": [],
   "source": []
  }
 ],
 "metadata": {
  "kernelspec": {
   "display_name": "Python 3 (ipykernel)",
   "language": "python",
   "name": "python3"
  },
  "language_info": {
   "codemirror_mode": {
    "name": "ipython",
    "version": 3
   },
   "file_extension": ".py",
   "mimetype": "text/x-python",
   "name": "python",
   "nbconvert_exporter": "python",
   "pygments_lexer": "ipython3",
   "version": "3.8.2"
  }
 },
 "nbformat": 4,
 "nbformat_minor": 5
}