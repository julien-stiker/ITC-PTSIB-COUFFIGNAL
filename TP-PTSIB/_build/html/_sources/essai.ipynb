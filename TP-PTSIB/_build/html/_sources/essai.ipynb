{
 "cells": [
  {
   "cell_type": "markdown",
   "id": "8233a19d",
   "metadata": {},
   "source": [
    "\n",
    "\n",
    "# Markdown content is written as regular markdown\n",
    "\n",
    "You can also write {ref}`MyST Markdown <myst>`.\n",
    "\n",
    "```{code-cell}\n",
    "---\n",
    "cellmetadatakey: val1\n",
    "---\n",
    "print(\"Here is a Python cell\")\n",
    "```\n",
    "\n",
    "And here is more markdown.\n",
    "\n",
    "+++\n",
    "\n",
    "Separate markdown cells with `+++` lines.\n",
    "\n",
    "```{code-cell}\n",
    ":cellmetadatakey: val1\n",
    "print(\"Another code cell with a second optional metadata syntax\")\n",
    "```\n",
    "\n",
    "\n",
    "# Les TP d'informatique en PTSI-B au lycée Coufignal\n",
    "\n",
    "```{image} logo.png\n",
    ":width: 1466px\n",
    ":align: center\n",
    "```\n",
    "\n",
    "\n",
    "```{code-cell}\n",
    "print(2)\n",
    "```"
   ]
  },
  {
   "cell_type": "markdown",
   "id": "e78642c6",
   "metadata": {},
   "source": []
  },
  {
   "cell_type": "code",
   "execution_count": null,
   "id": "8455d023",
   "metadata": {},
   "outputs": [],
   "source": []
  }
 ],
 "metadata": {
  "kernelspec": {
   "display_name": "Python 3 (ipykernel)",
   "language": "python",
   "name": "python3"
  },
  "language_info": {
   "codemirror_mode": {
    "name": "ipython",
    "version": 3
   },
   "file_extension": ".py",
   "mimetype": "text/x-python",
   "name": "python",
   "nbconvert_exporter": "python",
   "pygments_lexer": "ipython3",
   "version": "3.8.2"
  }
 },
 "nbformat": 4,
 "nbformat_minor": 5
}
